{
 "cells": [
  {
   "cell_type": "code",
   "execution_count": null,
   "metadata": {
    "pycharm": {
     "name": "#%%\n"
    }
   },
   "outputs": [],
   "source": [
    "import requests\n",
    "from bs4 import BeautifulSoup\n",
    "import pandas as pd\n",
    "import string\n",
    "from tqdm import tqdm\n",
    "\n",
    "ATC_DDD_URL = \"https://www.whocc.no/atc_ddd_index/?code=\""
   ]
  },
  {
   "cell_type": "code",
   "execution_count": null,
   "metadata": {
    "pycharm": {
     "name": "#%%\n"
    }
   },
   "outputs": [],
   "source": [
    "def get_atc_ddd_data(target_list, level):\n",
    "    temp_list = []\n",
    "    for code in tqdm(target_list):\n",
    "        response = requests.get(ATC_DDD_URL + code)\n",
    "        parsed = BeautifulSoup(response.text, 'lxml')\n",
    "        row_data_list = [b_element.find('a') for b_element in parsed.findAll('b')]\n",
    "        if level == 1:    \n",
    "            row_data_list =row_data_list[:level]\n",
    "        else:\n",
    "            row_data_list =row_data_list[level-1:]\n",
    "        if row_data_list:\n",
    "            for row_data in row_data_list:\n",
    "                temp_list.append((row_data['href'].split('&')[0].split('=')[1], row_data.text,))\n",
    "    return pd.DataFrame(temp_list, columns=['href', 'text'])"
   ]
  },
  {
   "cell_type": "code",
   "execution_count": null,
   "metadata": {
    "pycharm": {
     "name": "#%%\n"
    }
   },
   "outputs": [],
   "source": [
    "atc_l1 = get_atc_ddd_data(string.ascii_uppercase, 1)\n",
    "atc_l1.to_excel('ATC_L1.xlsx', index=False)"
   ]
  },
  {
   "cell_type": "code",
   "execution_count": null,
   "metadata": {
    "pycharm": {
     "name": "#%%\n"
    }
   },
   "outputs": [],
   "source": [
    "atc_l2 = get_atc_ddd_data(string.ascii_uppercase, 2)\n",
    "atc_l2.to_excel('ATC_L2.xlsx', index=False)"
   ]
  },
  {
   "cell_type": "code",
   "execution_count": null,
   "metadata": {
    "pycharm": {
     "name": "#%%\n"
    }
   },
   "outputs": [],
   "source": [
    "atc_l3 = get_atc_ddd_data(list(atc_l2['href']), 3)\n",
    "atc_l3.to_excel('ATC_L3.xlsx', index=False)"
   ]
  },
  {
   "cell_type": "code",
   "execution_count": null,
   "metadata": {
    "pycharm": {
     "name": "#%%\n"
    }
   },
   "outputs": [],
   "source": [
    "atc_l4 = get_atc_ddd_data(list(atc_l3['href']), 4)\n",
    "atc_l4.to_excel('ATC_L4.xlsx', index=False)"
   ]
  },
  {
   "cell_type": "code",
   "execution_count": null,
   "metadata": {
    "pycharm": {
     "name": "#%%\n"
    }
   },
   "outputs": [],
   "source": [
    "atc_l4_list = []\n",
    "for i in tqdm(list(atc_l4['href'])):\n",
    "    req = requests.get(ATC_DDD_URL+i)\n",
    "    soup = BeautifulSoup(req.text, 'lxml')\n",
    "    try:\n",
    "        row4_df = pd.read_html(str(soup.select('ul table')), header=0)[0].fillna('')\n",
    "        for n in row4_df.index:\n",
    "            if row4_df.at[n, 'ATC code'] == '':\n",
    "                try:\n",
    "                    row4_df.at[n, 'ATC code'] = row4_df.at[n - 1, 'ATC code']\n",
    "                except KeyError:\n",
    "                    row4_df.at[n, 'ATC code'] = i\n",
    "        atc_l4_list.extend(row4_df.to_dict('r'))\n",
    "    except ValueError:\n",
    "         atc_l4_list.extend([{'ATC code':i}])"
   ]
  },
  {
   "cell_type": "code",
   "execution_count": null,
   "metadata": {
    "pycharm": {
     "name": "#%%\n"
    }
   },
   "outputs": [],
   "source": [
    "with pd.ExcelWriter('ATC_DDD.xlsx') as xlsx:\n",
    "    atc_l1.to_excel(xlsx, sheet_name='ATC_L1', index=False)\n",
    "    atc_l2.to_excel(xlsx, sheet_name='ATC_L2', index=False)\n",
    "    atc_l3.to_excel(xlsx, sheet_name='ATC_L3', index=False)\n",
    "    atc_l4.to_excel(xlsx, sheet_name='ATC_L4', index=False)\n",
    "    pd.DataFrame(atc_l4_list).to_excel(xlsx, sheet_name='ATC_L5', index=False)"
   ]
  },
  {
   "cell_type": "code",
   "execution_count": null,
   "metadata": {},
   "outputs": [],
   "source": []
  }
 ],
 "metadata": {
  "kernelspec": {
   "display_name": "Python 3",
   "language": "python",
   "name": "python3"
  },
  "language_info": {
   "codemirror_mode": {
    "name": "ipython",
    "version": 3
   },
   "file_extension": ".py",
   "mimetype": "text/x-python",
   "name": "python",
   "nbconvert_exporter": "python",
   "pygments_lexer": "ipython3",
   "version": "3.7.6"
  }
 },
 "nbformat": 4,
 "nbformat_minor": 4
}