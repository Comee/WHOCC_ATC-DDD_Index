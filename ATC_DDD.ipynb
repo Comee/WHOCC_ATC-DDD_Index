{
 "cells": [
  {
   "cell_type": "code",
   "execution_count": 1,
   "metadata": {
    "pycharm": {
     "name": "#%%\n"
    }
   },
   "outputs": [],
   "source": [
    "import requests\n",
    "from bs4 import BeautifulSoup\n",
    "import pandas as pd\n",
    "import string\n",
    "from tqdm import tqdm\n",
    "import re\n",
    "\n",
    "ACT_DDD_ROOT = \"https://www.whocc.no/atc_ddd_index\"\n",
    "ATC_DDD_URL = f\"{ACT_DDD_ROOT}/?code=\"\n",
    "ATC_RE = r\"([\\w\\d]+)\\s+\\<b\\>\\<a\\s?href\\=\\\"\\.(\\/\\?.+?)\\\">([\\w\\s\\.\\\\\\/\\,\\-]+)\\<\\/a\\>\""
   ]
  },
  {
   "cell_type": "code",
   "execution_count": null,
   "metadata": {
    "collapsed": false,
    "jupyter": {
     "outputs_hidden": false
    },
    "pycharm": {
     "name": "#%%\n"
    }
   },
   "outputs": [],
   "source": []
  },
  {
   "cell_type": "code",
   "execution_count": 2,
   "metadata": {
    "collapsed": false,
    "jupyter": {
     "outputs_hidden": false
    },
    "pycharm": {
     "name": "#%%\n"
    }
   },
   "outputs": [],
   "source": [
    "def get_atc_l1_code():\n",
    "    response = requests.get(ACT_DDD_ROOT)\n",
    "    parsed = BeautifulSoup(response.text, 'lxml')\n",
    "    content = str(parsed.select_one(\"#content > div:nth-child(5) > div:nth-child(2) > p\").encode_contents())\n",
    "    atc_dataset = re.findall(ATC_RE, content)\n",
    "    return [(code, ACT_DDD_ROOT + href.replace(\"&amp;\", \"&\"), name) for code, href, name in atc_dataset]\n"
   ]
  },
  {
   "cell_type": "code",
   "execution_count": null,
   "metadata": {
    "collapsed": false,
    "jupyter": {
     "outputs_hidden": false
    },
    "pycharm": {
     "name": "#%%\n"
    }
   },
   "outputs": [],
   "source": [
    "atc_l1_code = get_atc_l1_code()\n",
    "pd.DataFrame(atc_l1_code, columns=[\"code\", \"href\", \"name\"]).to_excel('atc_l1.xlsx', index=False)"
   ]
  },
  {
   "cell_type": "code",
   "execution_count": null,
   "metadata": {
    "collapsed": false,
    "jupyter": {
     "outputs_hidden": false
    },
    "pycharm": {
     "name": "#%%\n"
    }
   },
   "outputs": [],
   "source": [
    "def get_atc_ddd_data(target_list):\n",
    "    temp_list = []\n",
    "    for code in tqdm(target_list):\n",
    "        response = requests.get(ATC_DDD_URL + code)\n",
    "        parsed = BeautifulSoup(response.text, 'lxml')\n",
    "    "
   ]
  },
  {
   "cell_type": "code",
   "execution_count": null,
   "metadata": {
    "collapsed": false,
    "jupyter": {
     "outputs_hidden": false
    },
    "pycharm": {
     "name": "#%%\n"
    }
   },
   "outputs": [],
   "source": [
    "def get_atc_ddd_data(target_list, level):\n",
    "    temp_list = []\n",
    "    for code in tqdm(target_list):\n",
    "        response = requests.get(ATC_DDD_URL + code)\n",
    "        parsed = BeautifulSoup(response.text, 'lxml')\n",
    "        a_element_list = [b_element.find('a') for b_element in parsed.findAll('b')]\n",
    "        row_data_list = a_element_list[:level] if level == 1 else a_element_list[level-1:]\n",
    "        if row_data_list:\n",
    "            for row_data in row_data_list:\n",
    "                temp_list.append((row_data['href'].split('&')[0].split('=')[1], row_data.text,))\n",
    "    return pd.DataFrame(temp_list, columns=['href', 'text'])"
   ]
  },
  {
   "cell_type": "code",
   "execution_count": null,
   "metadata": {
    "collapsed": false,
    "jupyter": {
     "outputs_hidden": false
    },
    "pycharm": {
     "name": "#%%\n"
    }
   },
   "outputs": [],
   "source": [
    "atc_l1 = get_atc_ddd_data(string.ascii_uppercase, 1)\n",
    "atc_l1.to_excel('ATC_L1.xlsx', index=False)"
   ]
  },
  {
   "cell_type": "code",
   "execution_count": null,
   "metadata": {
    "collapsed": false,
    "jupyter": {
     "outputs_hidden": false
    },
    "pycharm": {
     "name": "#%%\n"
    }
   },
   "outputs": [],
   "source": [
    "atc_l1.to_excel('ATC_L1.xlsx', index=False)"
   ]
  },
  {
   "cell_type": "code",
   "execution_count": null,
   "metadata": {
    "collapsed": false,
    "jupyter": {
     "outputs_hidden": false
    },
    "pycharm": {
     "name": "#%%\n"
    }
   },
   "outputs": [],
   "source": [
    "atc_l2 = get_atc_ddd_data(string.ascii_uppercase, 2)\n",
    "atc_l2.to_excel('ATC_L2.xlsx', index=False)"
   ]
  },
  {
   "cell_type": "code",
   "execution_count": null,
   "outputs": [],
   "source": [
    "atc_l1 = get_atc_ddd_data(string.ascii_uppercase, 1)\n",
    "atc_l1.to_excel('ATC_L1.xlsx', index=False)"
   ],
   "metadata": {
    "collapsed": false,
    "pycharm": {
     "name": "#%%\n"
    }
   }
  },
  {
   "cell_type": "code",
   "execution_count": null,
   "outputs": [],
   "source": [
    "atc_l1.to_excel('ATC_L1.xlsx', index=False)"
   ],
   "metadata": {
    "collapsed": false,
    "pycharm": {
     "name": "#%%\n"
    }
   }
  },
  {
   "cell_type": "code",
   "execution_count": null,
   "outputs": [],
   "source": [
    "atc_l2 = get_atc_ddd_data(string.ascii_uppercase, 2)\n",
    "atc_l2.to_excel('ATC_L2.xlsx', index=False)"
   ],
   "metadata": {
    "collapsed": false,
    "pycharm": {
     "name": "#%%\n"
    }
   }
  },
  {
   "cell_type": "code",
   "execution_count": null,
   "outputs": [],
   "source": [
    "atc_l2 = get_atc_ddd_data(string.ascii_uppercase, 2)\n",
    "atc_l2.to_excel('ATC_L2.xlsx', index=False)"
   ],
   "metadata": {
    "collapsed": false,
    "pycharm": {
     "name": "#%%\n"
    }
   }
  },
  {
   "cell_type": "code",
   "execution_count": null,
   "metadata": {
    "collapsed": false,
    "jupyter": {
     "outputs_hidden": false
    },
    "pycharm": {
     "name": "#%%\n"
    }
   },
   "outputs": [],
   "source": [
    "atc_l1.to_excel('ATC_L1.xlsx', index=False)"
   ]
  },
  {
   "cell_type": "code",
   "execution_count": null,
   "metadata": {
    "collapsed": false,
    "jupyter": {
     "outputs_hidden": false
    },
    "pycharm": {
     "name": "#%%\n"
    }
   },
   "outputs": [],
   "source": [
    "atc_l2 = get_atc_ddd_data(string.ascii_uppercase, 2)\n",
    "atc_l2.to_excel('ATC_L2.xlsx', index=False)"
   ]
  },
  {
   "cell_type": "code",
   "execution_count": null,
   "metadata": {
    "pycharm": {
     "name": "#%%\n"
    }
   },
   "outputs": [],
   "source": [
    "atc_l2 = get_atc_ddd_data(string.ascii_uppercase, 2)\n",
    "atc_l2.to_excel('ATC_L2.xlsx', index=False)"
   ]
  },
  {
   "cell_type": "code",
   "execution_count": null,
   "metadata": {
    "pycharm": {
     "name": "#%%\n"
    }
   },
   "outputs": [],
   "source": [
    "atc_l3 = get_atc_ddd_data(list(atc_l2['href']), 3)\n",
    "atc_l3.to_excel('ATC_L3.xlsx', index=False)"
   ]
  },
  {
   "cell_type": "code",
   "execution_count": null,
   "metadata": {
    "pycharm": {
     "name": "#%%\n"
    }
   },
   "outputs": [],
   "source": [
    "atc_l4 = get_atc_ddd_data(list(atc_l3['href']), 4)\n",
    "atc_l4.to_excel('ATC_L4.xlsx', index=False)"
   ]
  },
  {
   "cell_type": "code",
   "execution_count": null,
   "metadata": {
    "pycharm": {
     "name": "#%%\n"
    }
   },
   "outputs": [],
   "source": [
    "atc_l4_list = []\n",
    "for i in tqdm(list(atc_l4['href'])):\n",
    "    req = requests.get(ATC_DDD_URL+i)\n",
    "    soup = BeautifulSoup(req.text, 'lxml')\n",
    "    try:\n",
    "        row4_df = pd.read_html(str(soup.select('ul table')), header=0)[0].fillna('')\n",
    "        for n in row4_df.index:\n",
    "            if row4_df.at[n, 'ATC code'] == '':\n",
    "                try:\n",
    "                    row4_df.at[n, 'ATC code'] = row4_df.at[n - 1, 'ATC code']\n",
    "                except KeyError:\n",
    "                    row4_df.at[n, 'ATC code'] = i\n",
    "        atc_l4_list.extend(row4_df.to_dict('r'))\n",
    "    except ValueError:\n",
    "         atc_l4_list.extend([{'ATC code':i}])"
   ]
  },
  {
   "cell_type": "code",
   "execution_count": null,
   "metadata": {
    "pycharm": {
     "name": "#%%\n"
    }
   },
   "outputs": [],
   "source": [
    "with pd.ExcelWriter('ATC_DDD.xlsx') as xlsx:\n",
    "    atc_l1.to_excel(xlsx, sheet_name='ATC_L1', index=False)\n",
    "    atc_l2.to_excel(xlsx, sheet_name='ATC_L2', index=False)\n",
    "    atc_l3.to_excel(xlsx, sheet_name='ATC_L3', index=False)\n",
    "    atc_l4.to_excel(xlsx, sheet_name='ATC_L4', index=False)\n",
    "    pd.DataFrame(atc_l4_list).to_excel(xlsx, sheet_name='ATC_L5', index=False)"
   ]
  },
  {
   "cell_type": "code",
   "execution_count": null,
   "metadata": {},
   "outputs": [],
   "source": []
  }
 ],
 "metadata": {
  "kernelspec": {
   "display_name": "Python 3 (ipykernel)",
   "language": "python",
   "name": "python3"
  },
  "language_info": {
   "codemirror_mode": {
    "name": "ipython",
    "version": 3
   },
   "file_extension": ".py",
   "mimetype": "text/x-python",
   "name": "python",
   "nbconvert_exporter": "python",
   "pygments_lexer": "ipython3",
   "version": "3.8.8"
  }
 },
 "nbformat": 4,
 "nbformat_minor": 4
}